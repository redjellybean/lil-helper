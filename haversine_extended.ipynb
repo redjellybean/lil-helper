{
 "cells": [
  {
   "cell_type": "markdown",
   "metadata": {},
   "source": [
    "Importing the necessary libraries"
   ]
  },
  {
   "cell_type": "code",
   "execution_count": 19,
   "metadata": {},
   "outputs": [],
   "source": [
    "import os\n",
    "import numpy as np\n",
    "import pandas as pd"
   ]
  },
  {
   "cell_type": "markdown",
   "metadata": {},
   "source": [
    "Importing the coordinate data"
   ]
  },
  {
   "cell_type": "code",
   "execution_count": 20,
   "metadata": {},
   "outputs": [],
   "source": [
    "data = pd.read_csv('Paris_Locations.csv')\n",
    "stars_data = pd.read_excel('Book 4.xlsx', engine = 'openpyxl')\n",
    "#pd.read_csv('Book 4.csv', encoding='utf-8')\n",
    "#data\n",
    "data_df = pd.DataFrame(data)\n",
    "#data_df"
   ]
  },
  {
   "cell_type": "markdown",
   "metadata": {},
   "source": [
    "Haversine Function"
   ]
  },
  {
   "cell_type": "code",
   "execution_count": 21,
   "metadata": {},
   "outputs": [],
   "source": [
    "def haversine(lat1, lon1, lat2, lon2):\n",
    "    \"\"\"\n",
    "    Calculate the great-circle distance between two points \n",
    "    on the Earth's surface using the Haversine formula with numpy.\n",
    "    \n",
    "    Parameters:\n",
    "        lat1, lon1: Latitude and longitude of point 1 (in decimal degrees).\n",
    "        lat2, lon2: Latitude and longitude of point 2 (in decimal degrees).\n",
    "    \n",
    "    Returns:\n",
    "        Distance in kilometers.\n",
    "    \"\"\"\n",
    "    # Convert latitude and longitude from degrees to radians\n",
    "    lat1, lon1, lat2, lon2 = np.radians([lat1, lon1, lat2, lon2])\n",
    "    \n",
    "    # Haversine formula\n",
    "    dlat = lat2 - lat1\n",
    "    dlon = lon2 - lon1\n",
    "    a = np.sin(dlat / 2)**2 + np.cos(lat1) * np.cos(lat2) * np.sin(dlon / 2)**2\n",
    "    c = 2 * np.arctan2(np.sqrt(a), np.sqrt(1 - a))\n",
    "    \n",
    "    # Radius of the Earth in kilometers (mean value)\n",
    "    R = 6371.0\n",
    "    return R * c"
   ]
  },
  {
   "cell_type": "code",
   "execution_count": 22,
   "metadata": {},
   "outputs": [],
   "source": [
    "distances = []\n",
    "\n",
    "for i, (place1, lat1, lon1) in data_df.iterrows():\n",
    "    for j, (place2, lat2, lon2) in data_df.iterrows():\n",
    "        if i != j:  # Skip distance from a place to itself\n",
    "            distance = haversine(lat1, lon1, lat2, lon2)\n",
    "            distances.append({\n",
    "                \"Place 1\": place1,\n",
    "                \"Place 2\": place2,\n",
    "                \"Distance (km)\": distance\n",
    "            })\n",
    "\n",
    "distance_df = pd.DataFrame(distances)"
   ]
  },
  {
   "cell_type": "code",
   "execution_count": 23,
   "metadata": {},
   "outputs": [],
   "source": [
    "#distances_df = distance_df.sort_values(by=\"Place 1\").reset_index(drop=True)\n",
    "distances_df_odd_rows = distance_df.iloc[1::2]\n",
    "#distances_df"
   ]
  },
  {
   "cell_type": "code",
   "execution_count": 24,
   "metadata": {},
   "outputs": [],
   "source": [
    "# Clean up column names and ensure proper matching\n",
    "reference_data = stars_data.rename(columns={\"Titel\": \"Place\", \"Stars\": \"Stars\"})\n",
    "\n",
    "# Merge distances_df_odd_rows with the reference data to add \"stars\" columns\n",
    "distances_df_odd_rows = distances_df_odd_rows.merge(\n",
    "    reference_data[[\"Place\", \"Stars\"]], \n",
    "    left_on=\"Place 1\", \n",
    "    right_on=\"Place\", \n",
    "    how=\"left\"\n",
    ").rename(columns={\"Stars\": \"Stars Place 1\"}).drop(columns=[\"Place\"])\n",
    "\n",
    "distances_df_odd_rows = distances_df_odd_rows.merge(\n",
    "    reference_data[[\"Place\", \"Stars\"]], \n",
    "    left_on=\"Place 2\", \n",
    "    right_on=\"Place\", \n",
    "    how=\"left\"\n",
    ").rename(columns={\"Stars\": \"Stars Place 2\"}).drop(columns=[\"Place\"])"
   ]
  },
  {
   "cell_type": "code",
   "execution_count": 25,
   "metadata": {},
   "outputs": [],
   "source": [
    "# Sort the DataFrame by \"Stars Place 1\" and \"Stars Place 2\"\n",
    "distances_df_sorted = distances_df_odd_rows.sort_values(\n",
    "    by=[\"Stars Place 1\", \"Stars Place 2\"],\n",
    "    ascending=[False, False] \n",
    ")\n",
    "\n",
    "# Group by \"Place 1\" to see the sorted grouping\n",
    "#grouped_distances_df = distances_df_sorted.groupby(\"Place 1\")\n"
   ]
  },
  {
   "cell_type": "code",
   "execution_count": 26,
   "metadata": {},
   "outputs": [
    {
     "name": "stderr",
     "output_type": "stream",
     "text": [
      "C:\\Users\\Asmarani\\AppData\\Local\\Temp\\ipykernel_11080\\213093926.py:6: DeprecationWarning: DataFrameGroupBy.apply operated on the grouping columns. This behavior is deprecated, and in a future version of pandas the grouping columns will be excluded from the operation. Either pass `include_groups=False` to exclude the groupings or explicitly select the grouping columns after groupby to silence this warning.\n",
      "  grouped_data = distances_df_sorted.groupby(\"Place 1\").apply(lambda x: x).reset_index(drop=True)\n"
     ]
    }
   ],
   "source": [
    "# Export the sorted DataFrame directly as a CSV\n",
    "file_path = \"Distances_Between_Places_Sorted.csv\"\n",
    "distances_df_sorted.to_csv(file_path, index=False)\n",
    "\n",
    "# If you want to perform a groupby operation and export it\n",
    "grouped_data = distances_df_sorted.groupby(\"Place 1\").apply(lambda x: x).reset_index(drop=True)\n",
    "\n",
    "# Export the grouped data as a CSV\n",
    "file_path_grouped = \"Distances_Between_Places_Grouped.csv\"\n",
    "grouped_data.to_csv(file_path_grouped, index=False)"
   ]
  }
 ],
 "metadata": {
  "kernelspec": {
   "display_name": "Python 3",
   "language": "python",
   "name": "python3"
  },
  "language_info": {
   "codemirror_mode": {
    "name": "ipython",
    "version": 3
   },
   "file_extension": ".py",
   "mimetype": "text/x-python",
   "name": "python",
   "nbconvert_exporter": "python",
   "pygments_lexer": "ipython3",
   "version": "3.10.11"
  }
 },
 "nbformat": 4,
 "nbformat_minor": 2
}
